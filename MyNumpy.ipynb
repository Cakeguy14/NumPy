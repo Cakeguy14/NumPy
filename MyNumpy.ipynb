{
 "cells": [
  {
   "cell_type": "code",
   "execution_count": null,
   "metadata": {},
   "outputs": [],
   "source": [
    "import numpy as np"
   ]
  },
  {
   "cell_type": "code",
   "execution_count": null,
   "metadata": {},
   "outputs": [],
   "source": [
    "a = np.array([1,2,3], dtype='int32')\n",
    "print(a)"
   ]
  },
  {
   "cell_type": "code",
   "execution_count": null,
   "metadata": {},
   "outputs": [],
   "source": [
    "b = np.array([[1.0,2.0,3.0],[5.0,6.0,7.0]], dtype='int32')\n",
    "print(b)"
   ]
  },
  {
   "cell_type": "code",
   "execution_count": null,
   "metadata": {},
   "outputs": [],
   "source": [
    "a.ndim"
   ]
  },
  {
   "cell_type": "code",
   "execution_count": null,
   "metadata": {},
   "outputs": [],
   "source": [
    "b.ndim"
   ]
  },
  {
   "cell_type": "code",
   "execution_count": null,
   "metadata": {},
   "outputs": [],
   "source": [
    "a.size"
   ]
  },
  {
   "cell_type": "code",
   "execution_count": null,
   "metadata": {},
   "outputs": [],
   "source": [
    "a.itemsize"
   ]
  },
  {
   "cell_type": "code",
   "execution_count": null,
   "metadata": {},
   "outputs": [],
   "source": [
    "a.shape"
   ]
  },
  {
   "cell_type": "code",
   "execution_count": null,
   "metadata": {},
   "outputs": [],
   "source": [
    "a.dtype"
   ]
  },
  {
   "cell_type": "code",
   "execution_count": null,
   "metadata": {},
   "outputs": [],
   "source": [
    "a = np.array([[1,2,3,4,5,6,7,15,16],[8,9,10,11,12,13,14,17,18]])"
   ]
  },
  {
   "cell_type": "code",
   "execution_count": null,
   "metadata": {},
   "outputs": [],
   "source": [
    "a[0,:]"
   ]
  },
  {
   "cell_type": "code",
   "execution_count": null,
   "metadata": {},
   "outputs": [],
   "source": [
    "a[:, 1]"
   ]
  },
  {
   "cell_type": "code",
   "execution_count": null,
   "metadata": {},
   "outputs": [],
   "source": [
    "a[1,1]"
   ]
  },
  {
   "cell_type": "code",
   "execution_count": null,
   "metadata": {},
   "outputs": [],
   "source": [
    "a[0, 2:8:2]"
   ]
  },
  {
   "cell_type": "code",
   "execution_count": null,
   "metadata": {},
   "outputs": [],
   "source": [
    "a[0,4] = 20\n",
    "print(a)"
   ]
  },
  {
   "cell_type": "code",
   "execution_count": null,
   "metadata": {},
   "outputs": [],
   "source": [
    "a[:,4] = [1,2]\n",
    "print(a)"
   ]
  },
  {
   "cell_type": "code",
   "execution_count": null,
   "metadata": {},
   "outputs": [],
   "source": [
    "a = np.array([[[1,2],[3,4]],[[5,6],[7,8]]])"
   ]
  },
  {
   "cell_type": "code",
   "execution_count": null,
   "metadata": {},
   "outputs": [],
   "source": [
    "a[0,1,1]"
   ]
  },
  {
   "cell_type": "code",
   "execution_count": null,
   "metadata": {},
   "outputs": [],
   "source": [
    "a[:,1,1]"
   ]
  },
  {
   "cell_type": "code",
   "execution_count": null,
   "metadata": {},
   "outputs": [],
   "source": [
    "a[1,:,1] = [1,2]"
   ]
  },
  {
   "cell_type": "code",
   "execution_count": null,
   "metadata": {},
   "outputs": [],
   "source": [
    "a[1,:,1]"
   ]
  },
  {
   "cell_type": "code",
   "execution_count": null,
   "metadata": {},
   "outputs": [],
   "source": [
    "np.zeros(((2,2)), dtype='int32')"
   ]
  },
  {
   "cell_type": "code",
   "execution_count": null,
   "metadata": {},
   "outputs": [],
   "source": [
    "np.ones((2,3))"
   ]
  },
  {
   "cell_type": "code",
   "execution_count": null,
   "metadata": {},
   "outputs": [],
   "source": [
    "np.full((2,3), 7)"
   ]
  },
  {
   "cell_type": "code",
   "execution_count": null,
   "metadata": {},
   "outputs": [],
   "source": [
    "np.full_like(a, 3)"
   ]
  },
  {
   "cell_type": "code",
   "execution_count": null,
   "metadata": {},
   "outputs": [],
   "source": [
    "np.random.rand(3,4)"
   ]
  },
  {
   "cell_type": "code",
   "execution_count": null,
   "metadata": {},
   "outputs": [],
   "source": [
    "np.random.randint(3,4, size=(2,2))"
   ]
  },
  {
   "cell_type": "code",
   "execution_count": null,
   "metadata": {},
   "outputs": [],
   "source": [
    "np.identity(6)"
   ]
  },
  {
   "cell_type": "code",
   "execution_count": null,
   "metadata": {},
   "outputs": [],
   "source": [
    "arr = np.array([[1,2],[3,4]])\n",
    "r1 = np.repeat(arr,3, axis=0)\n",
    "print(r1)"
   ]
  },
  {
   "cell_type": "code",
   "execution_count": null,
   "metadata": {},
   "outputs": [],
   "source": [
    "a = np.ones(((5,5)), dtype='int32')\n",
    "b = np.zeros(((3,3)), dtype='int32')\n",
    "b[1,1] = 9\n",
    "a[1:-1,1:-1] = b\n",
    "print(a)\n"
   ]
  },
  {
   "cell_type": "code",
   "execution_count": null,
   "metadata": {},
   "outputs": [],
   "source": [
    "a = np.array([[1,2,3,4]])\n",
    "a"
   ]
  },
  {
   "cell_type": "code",
   "execution_count": null,
   "metadata": {},
   "outputs": [],
   "source": [
    "a = np.array([[1,2,3,4]])\n",
    "b = a.copy()\n",
    "b[0,3] = 10\n",
    "b"
   ]
  },
  {
   "cell_type": "code",
   "execution_count": null,
   "metadata": {},
   "outputs": [],
   "source": [
    "b = np.array([[1,0,1,0]])\n",
    "a + b"
   ]
  },
  {
   "cell_type": "code",
   "execution_count": null,
   "metadata": {},
   "outputs": [],
   "source": [
    "a * 2"
   ]
  },
  {
   "cell_type": "code",
   "execution_count": null,
   "metadata": {},
   "outputs": [],
   "source": [
    "a ** 2"
   ]
  },
  {
   "cell_type": "code",
   "execution_count": null,
   "metadata": {},
   "outputs": [],
   "source": [
    "a / 2"
   ]
  },
  {
   "cell_type": "code",
   "execution_count": null,
   "metadata": {},
   "outputs": [],
   "source": [
    "np.cos(a)"
   ]
  },
  {
   "cell_type": "code",
   "execution_count": null,
   "metadata": {},
   "outputs": [],
   "source": [
    "a = np.full((2,3), 3)\n",
    "\n",
    "b = np.full((3,2), 2)"
   ]
  },
  {
   "cell_type": "code",
   "execution_count": null,
   "metadata": {},
   "outputs": [],
   "source": [
    "np.matmul(a,b)"
   ]
  },
  {
   "cell_type": "code",
   "execution_count": null,
   "metadata": {},
   "outputs": [],
   "source": [
    "c = np.identity(3)"
   ]
  },
  {
   "cell_type": "code",
   "execution_count": null,
   "metadata": {},
   "outputs": [],
   "source": [
    "np.linalg.det(c)"
   ]
  },
  {
   "cell_type": "code",
   "execution_count": null,
   "metadata": {},
   "outputs": [],
   "source": [
    "import numpy as np\n",
    "\n",
    "a = np.array([[1, 2], [3, 4]])\n",
    "b = np.array([[5, 6], [7, 8]])\n",
    "\n",
    "# Dot product\n",
    "print(np.dot(a, b))  \n",
    "\n",
    "# Multi dot product\n",
    "print(np.linalg.multi_dot([a, b, a]))  \n",
    "\n",
    "# Vector dot product\n",
    "print(np.vdot(a, b))  \n",
    "\n",
    "# Inner product\n",
    "print(np.inner(a, b))  \n",
    "\n",
    "# Outer product\n",
    "print(np.outer(a, b))  \n",
    "\n",
    "# Matrix product\n",
    "print(np.matmul(a, b))  \n",
    "\n",
    "# Matrix-vector product\n",
    "v = np.array([1, 2])\n",
    "print(np.matmul(a, v))  \n",
    "\n",
    "# Tensor dot product\n",
    "print(np.tensordot(a, b))  \n",
    "\n",
    "# Einstein summation\n",
    "print(np.einsum('ij,jk->ik', a, b))  \n",
    "\n",
    "# Kronecker product\n",
    "print(np.kron(a, b))  \n",
    "\n",
    "# Cross product (for 3D vectors)\n",
    "v1 = np.array([1, 2, 3])\n",
    "v2 = np.array([4, 5, 6])\n",
    "print(np.cross(v1, v2))  \n"
   ]
  },
  {
   "cell_type": "code",
   "execution_count": null,
   "metadata": {},
   "outputs": [],
   "source": [
    "A = np.array([[4, 12], [7, 15]])\n",
    "\n",
    "# Cholesky decomposition\n",
    "print(np.linalg.cholesky(A))  \n",
    "\n",
    "# QR decomposition\n",
    "q, r = np.linalg.qr(A)\n",
    "print(q, r)  \n",
    "\n",
    "# SVD decomposition\n",
    "U, S, Vt = np.linalg.svd(A)\n",
    "print(U, S, Vt)  \n"
   ]
  },
  {
   "cell_type": "code",
   "execution_count": null,
   "metadata": {},
   "outputs": [],
   "source": [
    "# Eigenvalues and eigenvectors\n",
    "eigvals, eigvecs = np.linalg.eig(A)\n",
    "print(eigvals, eigvecs)  \n",
    "\n",
    "# Only eigenvalues\n",
    "print(np.linalg.eigvals(A))  \n"
   ]
  },
  {
   "cell_type": "code",
   "execution_count": null,
   "metadata": {},
   "outputs": [],
   "source": [
    "# Matrix norm\n",
    "print(np.linalg.norm(A))  \n",
    "\n",
    "# Determinant\n",
    "print(np.linalg.det(A))  \n",
    "\n",
    "# Rank of matrix\n",
    "print(np.linalg.matrix_rank(A))  \n",
    "\n",
    "# Trace (sum of diagonals)\n",
    "print(np.trace(A))  \n"
   ]
  },
  {
   "cell_type": "code",
   "execution_count": null,
   "metadata": {},
   "outputs": [],
   "source": [
    "B = np.array([[3], [5]])\n",
    "\n",
    "# Solve Ax = B\n",
    "x = np.linalg.solve(A, B)\n",
    "print(x)  \n",
    "\n",
    "# Inverse of a matrix\n",
    "print(np.linalg.inv(A))  \n",
    "\n",
    "# Pseudo-inverse (Moore-Penrose)\n",
    "print(np.linalg.pinv(A))  \n"
   ]
  },
  {
   "cell_type": "code",
   "execution_count": null,
   "metadata": {},
   "outputs": [],
   "source": [
    "# Diagonal elements\n",
    "print(np.diagonal(A))  \n",
    "\n",
    "# Transpose\n",
    "print(A.T)  \n"
   ]
  },
  {
   "cell_type": "code",
   "execution_count": null,
   "metadata": {},
   "outputs": [],
   "source": [
    "import numpy as np\n",
    "\n",
    "# Define matrices for testing\n",
    "a = np.array([[1, 2], [3, 4]])\n",
    "b = np.array([[5, 6], [7, 8]])\n",
    "c = np.array([[2, 3], [4, 5]])\n",
    "v1 = np.array([1, 2, 3])\n",
    "v2 = np.array([4, 5, 6])\n",
    "\n",
    "# Matrix operations\n",
    "dot_product = np.dot(a, b)\n",
    "multi_dot_product = np.linalg.multi_dot([a, b, c])\n",
    "vdot_product = np.vdot(a, b)\n",
    "inner_product = np.inner(a, b)\n",
    "outer_product = np.outer(a, b)\n",
    "matmul_product = np.matmul(a, b)\n",
    "tensordot_product = np.tensordot(a, b, axes=1)\n",
    "einsum_product = np.einsum('ij,jk->ik', a, b)\n",
    "kron_product = np.kron(a, b)\n",
    "cross_product = np.cross(v1, v2)\n",
    "\n",
    "# Decompositions\n",
    "A = np.array([[4, 12], [7, 15]])\n",
    "cholesky_decomp = np.linalg.cholesky(A)\n",
    "q, r = np.linalg.qr(A)\n",
    "U, S, Vt = np.linalg.svd(A)\n",
    "\n",
    "# Eigenvalues and vectors\n",
    "eigvals, eigvecs = np.linalg.eig(A)\n",
    "\n",
    "# Norms and matrix properties\n",
    "matrix_norm = np.linalg.norm(A)\n",
    "determinant = np.linalg.det(A)\n",
    "matrix_rank = np.linalg.matrix_rank(A)\n",
    "trace_value = np.trace(A)\n",
    "\n",
    "# Solving equations and inverses\n",
    "B = np.array([[3], [5]])\n",
    "solution = np.linalg.solve(A, B)\n",
    "inverse_matrix = np.linalg.inv(A)\n",
    "pseudo_inverse = np.linalg.pinv(A)\n",
    "\n",
    "# Other matrix operations\n",
    "diagonal_values = np.diagonal(A)\n",
    "transpose_matrix = A.T\n",
    "\n",
    "# Compile results\n",
    "results = {\n",
    "    \"dot_product\": dot_product,\n",
    "    \"multi_dot_product\": multi_dot_product,\n",
    "    \"vdot_product\": vdot_product,\n",
    "    \"inner_product\": inner_product,\n",
    "    \"outer_product\": outer_product,\n",
    "    \"matmul_product\": matmul_product,\n",
    "    \"tensordot_product\": tensordot_product,\n",
    "    \"einsum_product\": einsum_product,\n",
    "    \"kron_product\": kron_product,\n",
    "    \"cross_product\": cross_product,\n",
    "    \"cholesky_decomp\": cholesky_decomp,\n",
    "    \"qr_decomp_Q\": q,\n",
    "    \"qr_decomp_R\": r,\n",
    "    \"svd_U\": U,\n",
    "    \"svd_S\": S,\n",
    "    \"svd_Vt\": Vt,\n",
    "    \"eigvals\": eigvals,\n",
    "    \"eigvecs\": eigvecs,\n",
    "    \"matrix_norm\": matrix_norm,\n",
    "    \"determinant\": determinant,\n",
    "    \"matrix_rank\": matrix_rank,\n",
    "    \"trace_value\": trace_value,\n",
    "    \"solution\": solution,\n",
    "    \"inverse_matrix\": inverse_matrix,\n",
    "    \"pseudo_inverse\": pseudo_inverse,\n",
    "    \"diagonal_values\": diagonal_values,\n",
    "    \"transpose_matrix\": transpose_matrix,\n",
    "}\n",
    "\n",
    "results\n"
   ]
  },
  {
   "cell_type": "code",
   "execution_count": null,
   "metadata": {},
   "outputs": [],
   "source": [
    "a = np.array([[1,2,3,4],[5,6,7,8]])\n",
    "a"
   ]
  },
  {
   "cell_type": "code",
   "execution_count": null,
   "metadata": {},
   "outputs": [],
   "source": [
    "np.min(a)"
   ]
  },
  {
   "cell_type": "code",
   "execution_count": null,
   "metadata": {},
   "outputs": [],
   "source": [
    "np.max(a)"
   ]
  },
  {
   "cell_type": "code",
   "execution_count": null,
   "metadata": {},
   "outputs": [],
   "source": [
    "np.sum(a, axis=0)"
   ]
  },
  {
   "cell_type": "code",
   "execution_count": null,
   "metadata": {},
   "outputs": [],
   "source": [
    "np.sum(a, axis=1)"
   ]
  },
  {
   "cell_type": "code",
   "execution_count": null,
   "metadata": {},
   "outputs": [],
   "source": [
    "a.reshape((2,2,2))"
   ]
  },
  {
   "cell_type": "code",
   "execution_count": null,
   "metadata": {},
   "outputs": [],
   "source": [
    "a = np.array([1,2,3,4])\n",
    "b = np.array([5,6,7,8])\n",
    "\n",
    "np.vstack([a,b,a,b])\n",
    "np.hstack([a,b,a,b])"
   ]
  },
  {
   "cell_type": "code",
   "execution_count": 84,
   "metadata": {},
   "outputs": [
    {
     "name": "stdout",
     "output_type": "stream",
     "text": [
      "[[  1  13  21  11 196  75   4   3  34   6   7   8   0   1   2   3   4   5]\n",
      " [  3  42  12  33 766  75   4  55   6   4   3   4   5   6   7   0  11  12]\n",
      " [  1  22  33  11 999  11   2   1  78   0   1   2   9   8   7   1  76  88]]\n"
     ]
    },
    {
     "data": {
      "text/plain": [
       "array([[ True, False,  True, False,  True,  True,  True,  True,  True,\n",
       "         True,  True,  True,  True,  True,  True,  True,  True,  True],\n",
       "       [ True,  True, False,  True,  True,  True,  True,  True,  True,\n",
       "         True,  True,  True,  True,  True,  True,  True, False, False],\n",
       "       [ True,  True,  True, False,  True, False,  True,  True,  True,\n",
       "         True,  True,  True,  True,  True,  True,  True,  True,  True]])"
      ]
     },
     "execution_count": 84,
     "metadata": {},
     "output_type": "execute_result"
    }
   ],
   "source": [
    "filedata = np.genfromtxt('data.txt', delimiter=',')\n",
    "filedata = filedata.astype('int32')\n",
    "\n",
    "print(filedata)\n",
    "\n",
    "(~((filedata > 10) & (filedata < 20)))"
   ]
  },
  {
   "cell_type": "code",
   "execution_count": null,
   "metadata": {},
   "outputs": [],
   "source": [
    "filedata[filedata > 50]\n",
    "filedata[[0,1,2]]"
   ]
  },
  {
   "cell_type": "code",
   "execution_count": 86,
   "metadata": {},
   "outputs": [
    {
     "data": {
      "text/plain": [
       "array([ True,  True,  True])"
      ]
     },
     "execution_count": 86,
     "metadata": {},
     "output_type": "execute_result"
    }
   ],
   "source": [
    "np.any(filedata > 50, axis=0)\n",
    "np.any(filedata > 50, axis=1)"
   ]
  },
  {
   "cell_type": "code",
   "execution_count": 87,
   "metadata": {},
   "outputs": [
    {
     "data": {
      "text/plain": [
       "array([False, False, False])"
      ]
     },
     "execution_count": 87,
     "metadata": {},
     "output_type": "execute_result"
    }
   ],
   "source": [
    "np.all(filedata > 50, axis=0)\n",
    "np.all(filedata > 50, axis=1)"
   ]
  }
 ],
 "metadata": {
  "kernelspec": {
   "display_name": "Python 3",
   "language": "python",
   "name": "python3"
  },
  "language_info": {
   "codemirror_mode": {
    "name": "ipython",
    "version": 3
   },
   "file_extension": ".py",
   "mimetype": "text/x-python",
   "name": "python",
   "nbconvert_exporter": "python",
   "pygments_lexer": "ipython3",
   "version": "3.11.9"
  }
 },
 "nbformat": 4,
 "nbformat_minor": 2
}
